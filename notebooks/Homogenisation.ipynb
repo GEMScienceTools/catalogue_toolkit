{
 "cells": [
  {
   "cell_type": "code",
   "execution_count": null,
   "metadata": {
    "collapsed": true
   },
   "outputs": [],
   "source": [
    "%matplotlib inline\n",
    "import os\n",
    "import numpy as np\n",
    "import matplotlib.pyplot as plt\n",
    "\n",
    "# Import the Parsers\n",
    "from eqcat.parsers.isf_catalogue_reader import ISFReader\n",
    "from eqcat.isc_homogenisor import (HomogenisorPreprocessor,\n",
    "                                   DynamicHomogenisor,\n",
    "                                   MagnitudeConversionRule)"
   ]
  },
  {
   "cell_type": "markdown",
   "metadata": {},
   "source": [
    "## Load in Catalogue - Limit to ISC, GCMT/HRVD, EHB, NEIC, BJI"
   ]
  },
  {
   "cell_type": "code",
   "execution_count": null,
   "metadata": {
    "collapsed": false
   },
   "outputs": [],
   "source": [
    "parser = ISFReader(\"inputs/isc_test_catalogue_isf.txt\",\n",
    "                   selected_origin_agencies=[\"ISC\", \"GCMT\", \"HRVD\", \"NEIC\", \"EHB\", \"BJI\"],\n",
    "                   selected_magnitude_agencies=[\"ISC\", \"GCMT\", \"HRVD\", \"NEIC\", \"BJI\"])\n",
    "catalogue = parser.read_file(\"ISC_DB1\", \"ISC Global M >= 5\")\n",
    "print \"Catalogue contains: %d events\" % catalogue.get_number_events()"
   ]
  },
  {
   "cell_type": "markdown",
   "metadata": {},
   "source": [
    "## Define Rule Sets"
   ]
  },
  {
   "cell_type": "markdown",
   "metadata": {},
   "source": [
    "The catalogue covers the years 2005/06. To illustrate how to apply time variable hierarchies we consider two set of rules:\n",
    "\n",
    "For the origin the order of preference is:\n",
    "\n",
    "(For 2005): EHB, ISC, NEIC, GCMT/HRVD, BJI\n",
    "\n",
    "(For 2006): ISC, EHB, NEIC, BJI, GCMT/HRVD\n"
   ]
  },
  {
   "cell_type": "code",
   "execution_count": null,
   "metadata": {
    "collapsed": true
   },
   "outputs": [],
   "source": [
    "origin_rules = [\n",
    "    (\"2005/01/01 - 2005/12/31\", ['EHB', 'ISC', 'NEIC', 'GCMT', 'HRVD', 'BJI']),\n",
    "    (\"2006/01/01 - 2007/01/01\", ['ISC', 'EHB', 'NEIC', 'BJI', 'GCMT', 'HRVD'])\n",
    "]"
   ]
  },
  {
   "cell_type": "markdown",
   "metadata": {
    "collapsed": true
   },
   "source": [
    "### Magnitude Rules "
   ]
  },
  {
   "cell_type": "markdown",
   "metadata": {},
   "source": [
    "#### GCMT/HRVD"
   ]
  },
  {
   "cell_type": "code",
   "execution_count": null,
   "metadata": {
    "collapsed": true
   },
   "outputs": [],
   "source": [
    "def gcmt_hrvd_mw(magnitude):\n",
    "    \"\"\"\n",
    "    For Mw recorded by GCMT take the value with no uncertainty\n",
    "    \"\"\"\n",
    "    return magnitude\n",
    "\n",
    "def gcmt_hrvd_mw_sigma(magnitude):\n",
    "    \"\"\"\n",
    "    No additional uncertainty   \n",
    "    \"\"\"\n",
    "    return 0.0"
   ]
  },
  {
   "cell_type": "markdown",
   "metadata": {},
   "source": [
    "#### ISC/NEIC"
   ]
  },
  {
   "cell_type": "code",
   "execution_count": null,
   "metadata": {
    "collapsed": true
   },
   "outputs": [],
   "source": [
    "def neic_mw(magnitude):\n",
    "    \"\"\"\n",
    "    If Mw reported by NEIC,\n",
    "    \"\"\"\n",
    "    return magnitude\n",
    "\n",
    "def neic_mw_sigma(magnitude):\n",
    "    \"\"\"\n",
    "    Uncertainty of 0.11 units\n",
    "    \"\"\"\n",
    "    return 0.11\n",
    "\n",
    "def scordillis_ms(magnitude):\n",
    "    \"\"\"\n",
    "    Scordilis (2006) indicates ISC and NEIC Ms can treated (almost) equivalently\n",
    "    \"\"\"\n",
    "    if magnitude < 6.1:\n",
    "        return 0.67 * magnitude + 2.07\n",
    "    else:\n",
    "        return 0.99 * magnitude + 0.08\n",
    "\n",
    "def scordillis_ms_sigma(magnitude):\n",
    "    \"\"\"\n",
    "    With Magnitude dependent uncertainty\n",
    "    \"\"\"\n",
    "    if magnitude < 6.1:\n",
    "        return 0.17\n",
    "    else:\n",
    "        return 0.20\n",
    "\n",
    "def scordillis_mb(magnitude):\n",
    "    \"\"\"\n",
    "    Scordilis (2006) finds NEIC and ISC mb nearly equivalent\n",
    "    \"\"\"\n",
    "    return 0.85 * magnitude + 1.03\n",
    "\n",
    "def scordillis_mb_sigma(magnitude):\n",
    "    \"\"\"\n",
    "    \"\"\"\n",
    "    return 0.29    "
   ]
  },
  {
   "cell_type": "markdown",
   "metadata": {},
   "source": [
    "#### BJI"
   ]
  },
  {
   "cell_type": "markdown",
   "metadata": {},
   "source": [
    "For BJI - no analysis has been undertaken. We apply a simple scaling of 0.9 M + 0.15 with uncertainty of 0.2. This is for illustrative purposes only "
   ]
  },
  {
   "cell_type": "code",
   "execution_count": null,
   "metadata": {
    "collapsed": true
   },
   "outputs": [],
   "source": [
    "def bji_mb(magnitude):\n",
    "    \"\"\"\n",
    "    \"\"\"\n",
    "    return 0.9 * magnitude + 0.15\n",
    "\n",
    "def bji_mb_sigma(magnitude):\n",
    "    \"\"\"\n",
    "    \"\"\"\n",
    "    return 0.2\n",
    "\n",
    "def bji_ms(magnitude):\n",
    "    \"\"\"\n",
    "    \"\"\"\n",
    "    return 0.9 * magnitude + 0.15\n",
    "\n",
    "def bji_ms_sigma(magnitude):\n",
    "    \"\"\"\n",
    "    \"\"\"\n",
    "    return 0.2"
   ]
  },
  {
   "cell_type": "markdown",
   "metadata": {},
   "source": [
    "### Define Magnitude Hierarchy"
   ]
  },
  {
   "cell_type": "code",
   "execution_count": null,
   "metadata": {
    "collapsed": false
   },
   "outputs": [],
   "source": [
    "rule_set_2005 = [\n",
    "    MagnitudeConversionRule(\"GCMT\", \"Mw\", gcmt_hrvd_mw, gcmt_hrvd_mw_sigma),\n",
    "    MagnitudeConversionRule(\"HRVD\", \"Mw\", gcmt_hrvd_mw, gcmt_hrvd_mw_sigma),\n",
    "    MagnitudeConversionRule(\"ISC\", \"Ms\", scordillis_ms, scordillis_ms_sigma),\n",
    "    MagnitudeConversionRule(\"NEIC\", \"Ms\", scordillis_ms, scordillis_ms_sigma),\n",
    "    MagnitudeConversionRule(\"ISC\", \"mb\", scordillis_mb, scordillis_mb_sigma),\n",
    "    MagnitudeConversionRule(\"NEIC\", \"mb\", scordillis_mb, scordillis_mb_sigma),\n",
    "    MagnitudeConversionRule(\"BJI\", \"Ms\", bji_ms, bji_ms_sigma),\n",
    "    MagnitudeConversionRule(\"BJI\", \"mb\", bji_mb, bji_mb_sigma)\n",
    "]\n",
    "\n",
    "rule_set_2006 = [\n",
    "    MagnitudeConversionRule(\"GCMT\", \"Mw\", gcmt_hrvd_mw, gcmt_hrvd_mw_sigma),\n",
    "    MagnitudeConversionRule(\"HRVD\", \"Mw\", gcmt_hrvd_mw, gcmt_hrvd_mw_sigma),\n",
    "    MagnitudeConversionRule(\"ISC\", \"Ms\", scordillis_ms, scordillis_ms_sigma),\n",
    "    MagnitudeConversionRule(\"BJI\", \"Ms\", bji_ms, bji_ms_sigma),\n",
    "    MagnitudeConversionRule(\"NEIC\", \"Ms\", scordillis_ms, scordillis_ms_sigma),\n",
    "    MagnitudeConversionRule(\"ISC\", \"mb\", scordillis_mb, scordillis_mb_sigma),\n",
    "    MagnitudeConversionRule(\"BJI\", \"mb\", bji_mb, bji_mb_sigma),\n",
    "    MagnitudeConversionRule(\"NEIC\", \"mb\", scordillis_mb, scordillis_mb_sigma)\n",
    "]\n",
    "\n",
    "magnitude_rules = [\n",
    "    (\"2005/01/01 - 2005/12/31\", rule_set_2005),\n",
    "    (\"2006/01/01 - 2007/01/01\", rule_set_2006)\n",
    "]"
   ]
  },
  {
   "cell_type": "markdown",
   "metadata": {},
   "source": [
    "### Pre-processing"
   ]
  },
  {
   "cell_type": "markdown",
   "metadata": {},
   "source": [
    "Before executing the homogenisation it is necessary to run a preprocessing step. This searches through the catalogue and identifies which conversion rule to apply:\n",
    "\n",
    "The preprocessor is instantiated with a string describing the sort of rules to be applied.\n",
    "\n",
    "\"time\" - Applies time only\n",
    "\n",
    "\"key\" - Applies key rules only\n",
    "\n",
    "\"depth\" - Applies depth rules only\n",
    "\n",
    "\"time|key\" - Applies joint time and key rules\n",
    "\n",
    "\"time|depth\" - Applied joint time and depth rules\n",
    "\n",
    "\"depth|key\" - Applies joint depth and key rules"
   ]
  },
  {
   "cell_type": "code",
   "execution_count": null,
   "metadata": {
    "collapsed": false
   },
   "outputs": [],
   "source": [
    "preprocessor = HomogenisorPreprocessor(\"time\")\n",
    "catalogue = preprocessor.execute(catalogue, origin_rules, magnitude_rules)"
   ]
  },
  {
   "cell_type": "markdown",
   "metadata": {},
   "source": [
    "### Harmonise the Catalogue"
   ]
  },
  {
   "cell_type": "code",
   "execution_count": null,
   "metadata": {
    "collapsed": false,
    "scrolled": true
   },
   "outputs": [],
   "source": [
    "harmonisor = DynamicHomogenisor(catalogue, logging=True)\n",
    "homogenised_catalogue = harmonisor.homogenise(magnitude_rules, origin_rules)"
   ]
  },
  {
   "cell_type": "markdown",
   "metadata": {},
   "source": [
    "As logging was enabled, we can dump the log to a csv file and explore which rules and which hierarchy was applied for each event"
   ]
  },
  {
   "cell_type": "code",
   "execution_count": null,
   "metadata": {
    "collapsed": true
   },
   "outputs": [],
   "source": [
    "log_file = \"outputs/homogenisor_log.csv\"\n",
    "if os.path.exists(log_file):\n",
    "    os.remove(log_file)\n",
    "\n",
    "harmonisor.dump_log(log_file)"
   ]
  },
  {
   "cell_type": "markdown",
   "metadata": {},
   "source": [
    "### Export the Homogenised Catalogue to CSV"
   ]
  },
  {
   "cell_type": "code",
   "execution_count": null,
   "metadata": {
    "collapsed": false,
    "scrolled": true
   },
   "outputs": [],
   "source": [
    "output_catalogue_file = \"outputs/homogeneous_catalogue.csv\"\n",
    "if os.path.exists(output_catalogue_file):\n",
    "    os.remove(output_catalogue_file)\n",
    "harmonisor.export_homogenised_to_csv(output_catalogue_file)"
   ]
  },
  {
   "cell_type": "code",
   "execution_count": null,
   "metadata": {
    "collapsed": true
   },
   "outputs": [],
   "source": []
  }
 ],
 "metadata": {
  "kernelspec": {
   "display_name": "Python 2",
   "language": "python",
   "name": "python2"
  },
  "language_info": {
   "codemirror_mode": {
    "name": "ipython",
    "version": 2
   },
   "file_extension": ".py",
   "mimetype": "text/x-python",
   "name": "python",
   "nbconvert_exporter": "python",
   "pygments_lexer": "ipython2",
   "version": "2.7.2"
  }
 },
 "nbformat": 4,
 "nbformat_minor": 0
}
