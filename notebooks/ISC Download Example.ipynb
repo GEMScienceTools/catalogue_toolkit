{
 "cells": [
  {
   "cell_type": "markdown",
   "metadata": {},
   "source": [
    "# The ISC Bulletin Download Utility"
   ]
  },
  {
   "cell_type": "markdown",
   "metadata": {},
   "source": [
    "The isc_downloader package provides a set of APIs to download a customized ISC catalogue from the ISC website (http://www.isc.ac.uk/iscbulletin/) using the Python command line."
   ]
  },
  {
   "cell_type": "code",
   "execution_count": null,
   "metadata": {},
   "outputs": [],
   "source": [
    "%matplotlib inline\n",
    "import eqcat.isc_downloader as isc"
   ]
  },
  {
   "cell_type": "markdown",
   "metadata": {},
   "source": [
    "### Basic Usage\n",
    "At first, an url-based catalogue request object should be created with:"
   ]
  },
  {
   "cell_type": "code",
   "execution_count": null,
   "metadata": {},
   "outputs": [],
   "source": [
    "Cat1 = isc.ISCBulletinUrl()"
   ]
  },
  {
   "cell_type": "markdown",
   "metadata": {},
   "source": [
    "The object contains a set of default parameters that can be listed with the merthod 'ListField'. A full description of each parameter and the list of available options can be found at http://www.isc.ac.uk/iscbulletin/search/webservices/."
   ]
  },
  {
   "cell_type": "code",
   "execution_count": null,
   "metadata": {
    "scrolled": true
   },
   "outputs": [],
   "source": [
    "Cat1.ListFields()"
   ]
  },
  {
   "cell_type": "markdown",
   "metadata": {},
   "source": [
    "Each parameter can then be modified with the method 'SetField'(particular care should be paid to the standard format of the different options).\n",
    "For example, the desired output format for the catalogue can be set to ISF with the following command:"
   ]
  },
  {
   "cell_type": "code",
   "execution_count": null,
   "metadata": {},
   "outputs": [],
   "source": [
    "Cat1.SetField(\"OutputFormat\",\"ISF\")"
   ]
  },
  {
   "cell_type": "markdown",
   "metadata": {},
   "source": [
    "As well, starting and ending time for the catalogue can be set with:"
   ]
  },
  {
   "cell_type": "code",
   "execution_count": null,
   "metadata": {},
   "outputs": [],
   "source": [
    "Cat1.SetField(\"StartYear\",\"2000\")\n",
    "Cat1.SetField(\"EndYear\",\"2001\")"
   ]
  },
  {
   "cell_type": "markdown",
   "metadata": {},
   "source": [
    "or search area (Nepal in this example):"
   ]
  },
  {
   "cell_type": "code",
   "execution_count": null,
   "metadata": {},
   "outputs": [],
   "source": [
    "Cat1.SetField('SearchAreaShape','RECT')\n",
    "Cat1.SetField('RectangleBottomLatitude','23')\n",
    "Cat1.SetField('RectangleTopLatitude','34')\n",
    "Cat1.SetField('RectangleLeftLongitude','77')\n",
    "Cat1.SetField('RectangleRightLongitude','91')"
   ]
  },
  {
   "cell_type": "markdown",
   "metadata": {},
   "source": [
    "NOTE: When modified, optional parameters can be set back empty by using empty strings: "
   ]
  },
  {
   "cell_type": "code",
   "execution_count": null,
   "metadata": {},
   "outputs": [],
   "source": [
    "Cat1.SetField(\"MinimumDepth\",\"\")"
   ]
  },
  {
   "cell_type": "markdown",
   "metadata": {},
   "source": [
    "Finally, the catalogue can simply be downloaded with the command:"
   ]
  },
  {
   "cell_type": "code",
   "execution_count": null,
   "metadata": {},
   "outputs": [],
   "source": [
    "Cat1.GetCatalogue()"
   ]
  },
  {
   "cell_type": "markdown",
   "metadata": {},
   "source": [
    "And the result saved to disk:"
   ]
  },
  {
   "cell_type": "code",
   "execution_count": null,
   "metadata": {},
   "outputs": [],
   "source": [
    "Cat1.WriteOutput(\"outputs/Example_ISF_Catalogue.isf\")"
   ]
  },
  {
   "cell_type": "markdown",
   "metadata": {},
   "source": [
    "The catalogue has been saved in an ascii file that can later be manipulated with the GEM catalogue tools."
   ]
  },
  {
   "cell_type": "code",
   "execution_count": null,
   "metadata": {
    "scrolled": true
   },
   "outputs": [],
   "source": [
    "f = open(\"outputs/Example_ISF_Catalogue.isf\", \"r\");\n",
    "print(f.read())\n",
    "f.close()"
   ]
  },
  {
   "cell_type": "markdown",
   "metadata": {},
   "source": [
    "### Saving/Loading Parameters\n",
    "One might want to save the current settings on a separate file, to be used as reference or subsequently to download another catalogue. This can be done with the command:"
   ]
  },
  {
   "cell_type": "code",
   "execution_count": null,
   "metadata": {},
   "outputs": [],
   "source": [
    "Cat1.SaveSettings(\"outputs/Example_Settings.par\")"
   ]
  },
  {
   "cell_type": "code",
   "execution_count": null,
   "metadata": {
    "scrolled": true
   },
   "outputs": [],
   "source": [
    "f = open(\"outputs/Example_Settings.par\", \"r\")\n",
    "print(f.read())\n",
    "f.close()"
   ]
  },
  {
   "cell_type": "markdown",
   "metadata": {},
   "source": [
    "As well, the parameters in the parameter file can be loaded back into memory with:"
   ]
  },
  {
   "cell_type": "code",
   "execution_count": null,
   "metadata": {},
   "outputs": [],
   "source": [
    "Cat2 = isc.ISCBulletinUrl()\n",
    "Cat2.LoadSettings(\"outputs/Example_Settings.par\")"
   ]
  },
  {
   "cell_type": "markdown",
   "metadata": {},
   "source": [
    "### Additional Formats\n",
    "The ISC event catalogue can be saved in CSV format:"
   ]
  },
  {
   "cell_type": "code",
   "execution_count": null,
   "metadata": {},
   "outputs": [],
   "source": [
    "Cat1.SetField(\"OutputFormat\",\"CATCSV\")\n",
    "Cat1.GetCatalogue()\n",
    "Cat1.WriteOutput(\"outputs/Example_CSV_Catalogue.csv\")"
   ]
  },
  {
   "cell_type": "code",
   "execution_count": null,
   "metadata": {},
   "outputs": [],
   "source": [
    "f = open(\"outputs/Example_CSV_Catalogue.csv\", \"r\")\n",
    "print(f.read())\n",
    "f.close()"
   ]
  },
  {
   "cell_type": "markdown",
   "metadata": {},
   "source": [
    "Catalogue of focal mechanisms is also available in CSV format:"
   ]
  },
  {
   "cell_type": "code",
   "execution_count": null,
   "metadata": {},
   "outputs": [],
   "source": [
    "Cat1.SetField(\"OutputFormat\",\"FMCSV\")\n",
    "Cat1.SetField(\"StartYear\",\"2000\")\n",
    "Cat1.SetField(\"EndYear\",\"2005\")\n",
    "Cat1.GetCatalogue()\n",
    "Cat1.WriteOutput(\"outputs/Example_FM_Catalogue.csv\")"
   ]
  },
  {
   "cell_type": "code",
   "execution_count": null,
   "metadata": {
    "scrolled": true
   },
   "outputs": [],
   "source": [
    "f = open(\"outputs/Example_FM_Catalogue.csv\", \"r\")\n",
    "print(f.read())\n",
    "f.close()"
   ]
  },
  {
   "cell_type": "markdown",
   "metadata": {
    "collapsed": true
   },
   "source": [
    "### Solving download issues\n",
    "Note that sometimes the ISC server is heavily loaded and the http request might fail.\n",
    "In such a case it could be conveninent to use an alternate (mirror) server:"
   ]
  },
  {
   "cell_type": "code",
   "execution_count": null,
   "metadata": {},
   "outputs": [],
   "source": [
    "Cat1.UseMirror()"
   ]
  },
  {
   "cell_type": "markdown",
   "metadata": {
    "collapsed": true
   },
   "source": [
    "Moreover, long time windows might produce a too large number of events, which cannot be downloaded in one block. The code gives the possibility to download the catalogue in separated blocks of a prescr\n",
    "ibed duration (using option SplitYears). The blocks are then automatically merged into a unique output:\n"
   ]
  },
  {
   "cell_type": "code",
   "execution_count": null,
   "metadata": {},
   "outputs": [],
   "source": [
    "Cat1.SetField(\"OutputFormat\",\"ISF\")\n",
    "Cat1.GetCatalogue(SplitYears=1)"
   ]
  },
  {
   "cell_type": "markdown",
   "metadata": {},
   "source": [
    "Optionally, one can overwrite a previous download:"
   ]
  },
  {
   "cell_type": "code",
   "execution_count": null,
   "metadata": {},
   "outputs": [],
   "source": [
    "Cat1.WriteOutput('outputs/Example_ISF_Catalogue_SPLIT.isf', OverWrite=True)"
   ]
  }
 ],
 "metadata": {
  "kernelspec": {
   "display_name": "Python 3",
   "language": "python",
   "name": "python3"
  },
  "language_info": {
   "codemirror_mode": {
    "name": "ipython",
    "version": 3
   },
   "file_extension": ".py",
   "mimetype": "text/x-python",
   "name": "python",
   "nbconvert_exporter": "python",
   "pygments_lexer": "ipython3",
   "version": "3.5.5"
  }
 },
 "nbformat": 4,
 "nbformat_minor": 1
}
