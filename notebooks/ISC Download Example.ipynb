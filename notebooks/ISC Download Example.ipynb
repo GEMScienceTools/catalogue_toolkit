{
 "cells": [
  {
   "cell_type": "markdown",
   "metadata": {},
   "source": [
    "# The ISC Bulletin Download Utility"
   ]
  },
  {
   "cell_type": "markdown",
   "metadata": {},
   "source": [
    "The isc_downloader package provides a set of APIs to download a customized ISC catalogue from the ISC website (http://www.isc.ac.uk/iscbulletin/) using the Python command line."
   ]
  },
  {
   "cell_type": "code",
   "execution_count": 1,
   "metadata": {
    "collapsed": false
   },
   "outputs": [],
   "source": [
    "%matplotlib inline\n",
    "import eqcat.isc_downloader as isc"
   ]
  },
  {
   "cell_type": "markdown",
   "metadata": {},
   "source": [
    "### Basic Usage\n",
    "At first, an url-based catalogue request object should be created with:"
   ]
  },
  {
   "cell_type": "code",
   "execution_count": 2,
   "metadata": {
    "collapsed": true
   },
   "outputs": [],
   "source": [
    "Cat1 = isc.ISCBulletinUrl()"
   ]
  },
  {
   "cell_type": "markdown",
   "metadata": {},
   "source": [
    "The object contains a set of default parameters that can be listed with the merthod 'ListField'. A full description of each parameter and the list of available options can be found at http://www.isc.ac.uk/iscbulletin/search/webservices/."
   ]
  },
  {
   "cell_type": "code",
   "execution_count": 3,
   "metadata": {
    "collapsed": false
   },
   "outputs": [
    {
     "name": "stdout",
     "output_type": "stream",
     "text": [
      "\n",
      "CURRENT SETTINGS:\n",
      "\n",
      "\tCatalogueType = REVIEWED\n",
      "\tOutputFormat = CATCSV\n",
      "\tSearchAreaShape = RECT\n",
      "\tRectangleBottomLatitude = 36\n",
      "\tRectangleTopLatitude = 48\n",
      "\tRectangleLeftLongitude = 6\n",
      "\tRectangleRightLongitude = 19\n",
      "\tCircularLatitude = [Empty]\n",
      "\tCircularLongitude = [Empty]\n",
      "\tCircularRadius = [Empty]\n",
      "\tMaxDistanceUnits = deg\n",
      "\tSeismicRegionNumber = [Empty]\n",
      "\tGeogrephicRegionNumber = [Empty]\n",
      "\tPolygonCoordinates = [Empty]\n",
      "\tStartYear = 2012\n",
      "\tStartMonth = 01\n",
      "\tStartDay = 01\n",
      "\tStartTime = 00:00:00\n",
      "\tEndYear = 2013\n",
      "\tEndMonth = 12\n",
      "\tEndDay = 31\n",
      "\tEndTime = 23:59:59\n",
      "\tMinimumDepth = [Empty]\n",
      "\tMaximumDepth = [Empty]\n",
      "\tNoDepthEvents = on\n",
      "\tMinimumMagnitude = [Empty]\n",
      "\tMaximumMagnitude = [Empty]\n",
      "\tNoMagnitudeEvents = on\n",
      "\tMagnitudeType = [Empty]\n",
      "\tMagnitudeAgency = [Empty]\n",
      "\tFocalMechanismAgency = Any\n",
      "\tIncludePhases = off\n",
      "\tMinimumPhaseNumber = [Empty]\n",
      "\tMaximumPhaseNumber = [Empty]\n",
      "\tNoKnownPhases = [Empty]\n",
      "\tPrimeOnly = [Empty]\n",
      "\tIncludeMagnitudes = on\n",
      "\tIncludeHeaders = on\n",
      "\tIncludeComments = on\n",
      "\tIncludeLinks = off\n"
     ]
    }
   ],
   "source": [
    "Cat1.ListFields()"
   ]
  },
  {
   "cell_type": "markdown",
   "metadata": {},
   "source": [
    "Each parameter can then be modified with the method 'SetField'(particular care should be paid to the standard format of the different options).\n",
    "For example, the desired output format for the catalogue can be set to ISF with the following command:"
   ]
  },
  {
   "cell_type": "code",
   "execution_count": 4,
   "metadata": {
    "collapsed": true
   },
   "outputs": [],
   "source": [
    "Cat1.SetField(\"OutputFormat\",\"ISF\")"
   ]
  },
  {
   "cell_type": "markdown",
   "metadata": {},
   "source": [
    "As well, starting and ending time for the catalogue can be set with:"
   ]
  },
  {
   "cell_type": "code",
   "execution_count": 5,
   "metadata": {
    "collapsed": false
   },
   "outputs": [],
   "source": [
    "Cat1.SetField(\"StartYear\",\"2000\")\n",
    "Cat1.SetField(\"EndYear\",\"2001\")"
   ]
  },
  {
   "cell_type": "markdown",
   "metadata": {},
   "source": [
    "or search area (Nepal in this example):"
   ]
  },
  {
   "cell_type": "code",
   "execution_count": 6,
   "metadata": {
    "collapsed": true
   },
   "outputs": [],
   "source": [
    "Cat1.SetField('SearchAreaShape','RECT')\n",
    "Cat1.SetField('RectangleBottomLatitude','23')\n",
    "Cat1.SetField('RectangleTopLatitude','34')\n",
    "Cat1.SetField('RectangleLeftLongitude','77')\n",
    "Cat1.SetField('RectangleRightLongitude','91')"
   ]
  },
  {
   "cell_type": "markdown",
   "metadata": {},
   "source": [
    "NOTE: When modified, optional parameters can be set back empty by using empty strings: "
   ]
  },
  {
   "cell_type": "code",
   "execution_count": 7,
   "metadata": {
    "collapsed": false
   },
   "outputs": [],
   "source": [
    "Cat1.SetField(\"MinimumDepth\",\"\")"
   ]
  },
  {
   "cell_type": "markdown",
   "metadata": {},
   "source": [
    "Finally, the catalogue can simply be downloaded with the command:"
   ]
  },
  {
   "cell_type": "code",
   "execution_count": 8,
   "metadata": {
    "collapsed": true
   },
   "outputs": [],
   "source": [
    "Cat1.GetCatalogue()"
   ]
  },
  {
   "cell_type": "markdown",
   "metadata": {},
   "source": [
    "And the result saved to disk:"
   ]
  },
  {
   "cell_type": "code",
   "execution_count": 9,
   "metadata": {
    "collapsed": false
   },
   "outputs": [
    {
     "name": "stdout",
     "output_type": "stream",
     "text": [
      "Warning: File exists. Use OverWrite option.\n"
     ]
    }
   ],
   "source": [
    "Cat1.WriteOutput(\"outputs/Example_ISF_Catalogue.isf\")"
   ]
  },
  {
   "cell_type": "markdown",
   "metadata": {},
   "source": [
    "The catalogue has been saved in an ascii file that can later be manipulated with the GEM catalogue tools."
   ]
  },
  {
   "cell_type": "code",
   "execution_count": 10,
   "metadata": {
    "collapsed": false,
    "scrolled": true
   },
   "outputs": [
    {
     "name": "stdout",
     "output_type": "stream",
     "text": [
      "DATA_TYPE EVENT IMS1.0\n",
      "Reviewed ISC Bulletin\n",
      "Event  3254347 Northern India\n",
      "   Date       Time        Err   RMS Latitude Longitude  Smaj  Smin  Az Depth   Err Ndef Nsta Gap  mdist  Mdist Qual   Author      OrigID\n",
      "2000/12/05 21:47:50.20   3.01 0.900  28.9540   77.4030   9.3   7.7  -1  14.2   8.7        10 188                      NDI        4214847\n",
      "2000/12/05 21:47:53.92   1.44 1.703  28.7640   77.2960 14.65 11.19   0  14.2f         6    6 177   0.11   5.50 m i    ISC        4412029\n",
      " (#PRIME)\n",
      "\n",
      "Magnitude  Err Nsta Author      OrigID\n",
      "MD     2.3          NDI        4214847\n",
      "ML     2.5          NDI        4214847\n",
      "MW     2.5          NDI        4214847\n",
      "\n",
      "Event  3264199 Qinghai\n",
      "   Date       Time        Err   RMS Latitude Longitude  Smaj  Smin  Az Depth   Err Ndef Nsta Gap  mdist  Mdist Qual   Author      OrigID\n",
      "2000/12/07 23:53:36.94   3.66 0.130  34.6313   92.7415 237.0  28.0  72   0.0f         4      187  17.03  80.74     uk IDC        4221686\n",
      "2000/12/07 23:53:35.14   1.60 0.723  33.8960   90.0600 74.08 21.42  90  33.0f         5    5 182   8.45  81.91 m i    ISC        4412219\n",
      " (#PRIME)\n",
      "\n",
      "Magnitude  Err Nsta Author      OrigID\n",
      "mb     3.6 0.3    3 IDC        4221686\n",
      "ML     3.5 0.0    1 IDC        4221686\n",
      "mb     3.7        2 ISC        4412219\n",
      "\n",
      "Event  3254520 Nepal-India border region\n",
      "   Date       Time        Err   RMS Latitude Longitude  Smaj  Smin  Az Depth   Err Ndef Nsta Gap  mdist  Mdist Qual   Author      OrigID\n",
      "2000/12/18 16:45:35.90   3.92 1.700  29.8210   80.1970  12.7  32.5  -1   5.0f              6 234                      NDI        4214956\n",
      "\n",
      "Magnitude  Err Nsta Author      OrigID\n",
      "MD     3.1          NDI        4214956\n",
      "\n",
      "Event  3265672 Xizang\n",
      "   Date       Time        Err   RMS Latitude Longitude  Smaj  Smin  Az Depth   Err Ndef Nsta Gap  mdist  Mdist Qual   Author      OrigID\n",
      "2000/12/28 19:44:09.24   4.78 0.620  30.9443   84.4666 188.0  31.4  69   0.0f         3      228  18.07  72.06     uk IDC        4222892\n",
      "2000/12/28 19:44:25.89   2.74 0.753  31.7240   86.7930 26.06 21.53  90 100.4  38.0   10   10 156   3.88  71.16 m i    ISC        4414178\n",
      " (#PRIME)\n",
      "\n",
      "Magnitude  Err Nsta Author      OrigID\n",
      "mb     3.4 0.2    2 IDC        4222892\n",
      "ML     3.2 0.0    1 IDC        4222892\n",
      "mb     3.2        2 ISC        4414178\n",
      "\n",
      "Event  3254630 Northern India\n",
      "   Date       Time        Err   RMS Latitude Longitude  Smaj  Smin  Az Depth   Err Ndef Nsta Gap  mdist  Mdist Qual   Author      OrigID\n",
      "2000/12/29 08:40:32.30   5.75 1.900  24.2800   83.1610  11.5  10.4  -1  10.0f             11 125                      NDI        4215043\n",
      "\n",
      "Magnitude  Err Nsta Author      OrigID\n",
      "ML     3.3          NDI        4215043\n",
      "\n",
      "\n"
     ]
    }
   ],
   "source": [
    "f = open(\"outputs/Example_ISF_Catalogue.isf\", \"r\"); print f.read(); f.close()"
   ]
  },
  {
   "cell_type": "markdown",
   "metadata": {},
   "source": [
    "### Saving/Loading Parameters\n",
    "One might want to save the current settings on a separate file, to be used as reference or subsequently to download another catalogue. This can be done with the command:"
   ]
  },
  {
   "cell_type": "code",
   "execution_count": 11,
   "metadata": {
    "collapsed": true
   },
   "outputs": [],
   "source": [
    "Cat1.SaveSettings(\"outputs/Example_Settings.par\")"
   ]
  },
  {
   "cell_type": "code",
   "execution_count": 12,
   "metadata": {
    "collapsed": false,
    "scrolled": true
   },
   "outputs": [
    {
     "name": "stdout",
     "output_type": "stream",
     "text": [
      "CatalogueType=REVIEWED\n",
      "OutputFormat=ISF\n",
      "SearchAreaShape=RECT\n",
      "RectangleBottomLatitude=23\n",
      "RectangleTopLatitude=34\n",
      "RectangleLeftLongitude=77\n",
      "RectangleRightLongitude=91\n",
      "CircularLatitude=Null\n",
      "CircularLongitude=Null\n",
      "CircularRadius=Null\n",
      "MaxDistanceUnits=deg\n",
      "SeismicRegionNumber=Null\n",
      "GeogrephicRegionNumber=Null\n",
      "PolygonCoordinates=Null\n",
      "StartYear=2000\n",
      "StartMonth=01\n",
      "StartDay=01\n",
      "StartTime=00:00:00\n",
      "EndYear=2001\n",
      "EndMonth=12\n",
      "EndDay=31\n",
      "EndTime=23:59:59\n",
      "MinimumDepth=Null\n",
      "MaximumDepth=Null\n",
      "NoDepthEvents=on\n",
      "MinimumMagnitude=Null\n",
      "MaximumMagnitude=Null\n",
      "NoMagnitudeEvents=on\n",
      "MagnitudeType=Null\n",
      "MagnitudeAgency=Null\n",
      "FocalMechanismAgency=Any\n",
      "IncludePhases=off\n",
      "MinimumPhaseNumber=Null\n",
      "MaximumPhaseNumber=Null\n",
      "NoKnownPhases=Null\n",
      "PrimeOnly=Null\n",
      "IncludeMagnitudes=on\n",
      "IncludeHeaders=on\n",
      "IncludeComments=on\n",
      "IncludeLinks=off\n"
     ]
    }
   ],
   "source": [
    "f = open(\"outputs/Example_Settings.par\", \"r\"); print f.read(); f.close()"
   ]
  },
  {
   "cell_type": "markdown",
   "metadata": {},
   "source": [
    "As well, the parameters in the parameter file can be loaded back into memory with:"
   ]
  },
  {
   "cell_type": "code",
   "execution_count": 13,
   "metadata": {
    "collapsed": true
   },
   "outputs": [],
   "source": [
    "Cat2 = isc.ISCBulletinUrl()\n",
    "Cat2.LoadSettings(\"outputs/Example_Settings.par\")"
   ]
  },
  {
   "cell_type": "markdown",
   "metadata": {},
   "source": [
    "### Additional Formats\n",
    "The ISC event catalogue can be saved in CSV format:"
   ]
  },
  {
   "cell_type": "code",
   "execution_count": 16,
   "metadata": {
    "collapsed": false
   },
   "outputs": [
    {
     "name": "stdout",
     "output_type": "stream",
     "text": [
      "Warning: File exists. Use OverWrite option.\n"
     ]
    }
   ],
   "source": [
    "Cat1.SetField(\"OutputFormat\",\"CATCSV\")\n",
    "Cat1.GetCatalogue()\n",
    "Cat1.WriteOutput(\"outputs/Example_CSV_Catalogue.csv\")"
   ]
  },
  {
   "cell_type": "code",
   "execution_count": 18,
   "metadata": {
    "collapsed": false,
    "scrolled": false
   },
   "outputs": [
    {
     "name": "stdout",
     "output_type": "stream",
     "text": [
      "DATA_TYPE EVENT_CATALOGUE\n",
      "Reviewed ISC Bulletin\n",
      "--EVENT--|--------------------ORIGIN (PRIME HYPOCENTRE)-------------------|------MAGNITUDES-----...\n",
      "  EVENTID,AUTHOR   ,DATE      ,TIME       ,LAT     ,LON      ,DEPTH,DEPFIX,AUTHOR   ,TYPE  ,MAG \n",
      "Event  3254347\n",
      "  3254347,ISC      ,2000-12-05,21:47:53.92, 28.7640,  77.2960, 14.2,TRUE  ,NDI      ,MD    , 2.3,NDI      ,ML    , 2.5,NDI      ,MW    , 2.5\n",
      "Event  3264199\n",
      "  3264199,ISC      ,2000-12-07,23:53:35.14, 33.8960,  90.0600, 33.0,TRUE  ,ISC      ,mb    , 3.7,IDC      ,mb    , 3.6,IDC      ,ML    , 3.5\n",
      "Event  3254520\n",
      "  3254520,NDI      ,2000-12-18,16:45:35.90, 29.8210,  80.1970,  5.0,TRUE  ,NDI      ,MD    , 3.1,\n",
      "Event  3265672\n",
      "  3265672,ISC      ,2000-12-28,19:44:25.89, 31.7240,  86.7930,100.4,      ,ISC      ,mb    , 3.2,IDC      ,mb    , 3.4,IDC      ,ML    , 3.2\n",
      "Event  3254630\n",
      "  3254630,NDI      ,2000-12-29,08:40:32.30, 24.2800,  83.1610, 10.0,TRUE  ,NDI      ,ML    , 3.3,\n",
      "\n"
     ]
    }
   ],
   "source": [
    "f = open(\"outputs/Example_CSV_Catalogue.csv\", \"r\"); print f.read(); f.close()"
   ]
  },
  {
   "cell_type": "markdown",
   "metadata": {},
   "source": [
    "Catalogue of focal mechanisms is also available in CSV format:"
   ]
  },
  {
   "cell_type": "code",
   "execution_count": 20,
   "metadata": {
    "collapsed": false
   },
   "outputs": [
    {
     "name": "stdout",
     "output_type": "stream",
     "text": [
      "Warning: File exists. Use OverWrite option.\n"
     ]
    }
   ],
   "source": [
    "Cat1.SetField(\"OutputFormat\",\"FMCSV\")\n",
    "Cat1.SetField(\"StartYear\",\"2000\")\n",
    "Cat1.SetField(\"EndYear\",\"2005\")\n",
    "Cat1.GetCatalogue()\n",
    "Cat1.WriteOutput(\"outputs/Example_FM_Catalogue.csv\")"
   ]
  },
  {
   "cell_type": "code",
   "execution_count": 22,
   "metadata": {
    "collapsed": false,
    "scrolled": true
   },
   "outputs": [
    {
     "name": "stdout",
     "output_type": "stream",
     "text": [
      "DATA_TYPE FOCAL_MECHANISM_SOLUTIONS\n",
      "Reviewed ISC Bulletin\n",
      "--EVENT--|------------------------------ORIGIN------------------------------|FM AUTHOR|----MOMENT---|-----------MOMENT TENSOR COMPONENTS---------|---------------NODAL PLANES--------------|-----------------------PRINCIPAL AXES-------------------------|\n",
      " EVENT_ID,AUTHOR   ,DATE      ,TIME       ,LAT     ,LON      ,DEPTH,CENTROID,AUTHOR   ,EX,MO   ,MW  ,EX,MRR   ,MTT   ,MPP   ,MRT   ,MTP   ,MPR   ,STRIKE,DIP  ,RAKE   ,STRIKE,DIP  ,RAKE   ,EX,T_VAL ,T_PL ,T_AZM ,P_VAL ,P_PL ,P_AZM ,N_VAL ,N_PL ,N_AZM \n",
      "Event    3323034\n",
      "3323034  ,NDI      ,2001-06-23,02:33:31.60, 30.2700,  77.5320, 11.2,        ,NDI      ,  ,     ,    ,  ,      ,      ,      ,      ,      ,      , 62.80,53.90, -30.70,      ,     ,       ,  ,      ,     ,      ,      ,     ,      ,      ,     ,      \n",
      "Event    2379218\n",
      "2379218  ,HRVD     ,2001-11-27,07:31:57.10, 29.6100,  81.7500, 15.0,TRUE    ,HRVD     ,17,2.220, 5.5,17, 0.180,-0.340, 0.160, 2.140, 0.060,-0.530,104.00,87.00,  92.00,257.00, 4.00,  63.00,17, 2.140,48.00, 16.00,-2.300,42.00,192.00, 0.170, 2.00,284.00\n",
      "Event    2408305\n",
      "2408305  ,HRVD     ,2001-11-27,08:53:59.40, 28.9100,  81.4900, 15.0,TRUE    ,HRVD     ,17,1.590, 5.4,17, 1.140,-1.200, 0.060, 0.810, 0.540,-0.500,119.00,64.00,  99.00,280.00,28.00,  73.00,17, 1.480,70.00, 46.00,-1.710,18.00,202.00, 0.230, 8.00,295.00\n",
      "Event    3166176\n",
      "3166176  ,NEIC     ,2002-06-04,14:36:05.80, 30.5950,  81.4400, 33.0,        ,NEIC     ,17,1.900, 5.5,17,-1.270,-0.520, 1.790,-0.860, 0.220,-0.440, 33.00,62.00, -55.00,157.00,44.00,-137.00,17, 1.900,10.00, 99.00,-1.850,57.00,353.00,-0.050,31.00,195.00\n",
      "3166176  ,HRVD     ,2002-06-04,14:36:08.50, 30.1300,  81.2500, 15.0,TRUE    ,HRVD     ,17,2.990, 5.6,17,-2.310,-0.480, 2.790,-1.500, 0.240,-0.140, 31.00,55.00, -53.00,159.00,49.00,-130.00,17, 2.820, 3.00, 96.00,-3.150,61.00,  0.00, 0.330,29.00,187.00\n",
      "Event    6621514\n",
      "6621514  ,HRVD     ,2003-03-25,18:51:30.70, 26.9200,  89.8200, 55.8,TRUE    ,HRVD     ,17,1.730, 5.4,17,-0.680,-1.260, 1.940,-0.460,-0.100, 0.010, 40.00,70.00, -21.00,137.00,71.00,-159.00,17, 1.940, 1.00,268.00,-1.510,29.00,358.00,-0.430,61.00,177.00\n",
      "Event    7249665\n",
      "7249665  ,HRVD     ,2004-02-10,05:39:42.60, 32.6000,  83.4200, 28.8,TRUE    ,HRVD     ,16,2.630, 4.9,16,-2.270,-0.120, 2.390, 0.840, 0.310, 0.810,203.00,58.00, -72.00,351.00,37.00,-116.00,16, 2.600,11.00,280.00,-2.650,71.00,156.00, 0.040,15.00, 13.00\n",
      "Event    7319858\n",
      "7319858  ,HRVD     ,2004-03-27,18:47:29.20, 34.0000,  89.3500, 12.0,TRUE    ,HRVD     ,18,1.110, 6.0,18,-0.880,-0.280, 1.160,-0.100, 0.520,-0.060, 28.00,48.00, -76.00,187.00,44.00,-105.00,18, 1.330, 2.00,108.00,-0.890,79.00,  6.00,-0.430,10.00,198.00\n",
      "7319858  ,NEIC     ,2004-03-27,18:47:29.20, 33.9540,  89.1790,  8.0,        ,NEIC     ,  ,     ,    ,  ,      ,      ,      ,      ,      ,      , 10.00,60.00, -90.00,190.00,30.00, -90.00,  ,      ,15.00,100.00,      ,75.00,280.00,      , 0.00,  0.00\n",
      "7319858  ,NEIC     ,2004-03-27,18:47:29.20, 33.9540,  89.1790,  8.0,        ,NEIC     ,18,1.100, 6.0,18,-1.030, 0.250, 0.780,-0.070, 0.400,-0.270, 25.00,53.00, -94.00,212.00,38.00, -85.00,18, 1.030, 8.00,118.00,-1.070,82.00,275.00, 0.040, 3.00, 28.00\n",
      "Event    7319945\n",
      "7319945  ,HRVD     ,2004-03-27,20:05:53.60, 33.8700,  89.1900, 18.4,TRUE    ,HRVD     ,16,3.910, 5.0,16,-3.000, 0.390, 2.610,-1.280, 1.180, 2.170, 44.00,36.00, -49.00,176.00,64.00,-115.00,16, 3.530,15.00,285.00,-4.290,62.00, 46.00, 0.760,23.00,188.00\n",
      "Event    7320854\n",
      "7320854  ,HRVD     ,2004-03-28,22:27:27.50, 33.9100,  89.2800, 16.9,TRUE    ,HRVD     ,16,5.340, 5.1,16,-3.350,-1.590, 4.930,-1.940, 1.890, 1.510, 46.00,50.00, -39.00,164.00,61.00,-132.00,16, 5.550, 7.00,283.00,-5.130,53.00, 22.00,-0.430,36.00,188.00\n",
      "Event    7326697\n",
      "7326697  ,HRVD     ,2004-04-06,10:30:32.30, 33.8300,  89.2500, 12.0,TRUE    ,HRVD     ,16,4.810, 5.1,16,-3.960,-0.450, 4.410,-1.730, 1.530, 0.340, 39.00,51.00, -58.00,174.00,49.00,-123.00,16, 4.850, 1.00,106.00,-4.760,66.00, 14.00,-0.090,24.00,197.00\n",
      "Event    7333262\n",
      "7333262  ,HRVD     ,2004-04-22,10:02:16.40, 33.8800,  89.3300, 17.7,TRUE    ,HRVD     ,17,0.750, 5.2,17,-0.550,-0.230, 0.780,-0.220, 0.190, 0.110, 36.00,49.00, -50.00,165.00,54.00,-126.00,17, 0.820, 3.00,279.00,-0.680,61.00, 15.00,-0.140,29.00,188.00\n",
      "Event    7370445\n",
      "7370445  ,NEIC     ,2004-07-11,23:08:44.18, 30.6940,  83.6720, 13.0,        ,NEIC     ,  ,     ,    ,  ,      ,      ,      ,      ,      ,      ,175.00,45.00, -90.00,355.00,45.00, -90.00,  ,      , 0.00, 85.00,      ,90.00,  0.00,      , 0.00,  0.00\n",
      "7370445  ,NEIC     ,2004-07-11,23:08:44.18, 30.6940,  83.6720, 13.0,        ,NEIC     ,18,2.200, 6.2,18,-2.070,-0.080, 2.150,-0.320,-0.340,-0.090,  1.00,46.00, -77.00,162.00,45.00,-103.00,18, 2.200, 1.00, 82.00,-2.120,81.00,348.00,-0.070, 9.00,172.00\n",
      "7370445  ,HRVD     ,2004-07-11,23:08:44.20, 30.5600,  83.7800, 13.0,TRUE    ,HRVD     ,18,2.360, 6.2,18,-2.140,-0.220, 2.360,-0.390,-0.610,-0.030,156.00,47.00,-106.00,359.00,45.00, -74.00,18, 2.500, 1.00,257.00,-2.220,78.00,351.00,-0.280,12.00,167.00\n",
      "Event    7376904\n",
      "7376904  ,HRVD     ,2004-07-28,22:22:13.10, 30.3500,  83.6300, 13.7,TRUE    ,HRVD     ,16,3.680, 5.0,16,-3.240,-0.420, 3.670,-1.050,-0.620, 0.020,  9.00,47.00, -64.00,154.00,49.00,-115.00,16, 3.770, 1.00,261.00,-3.590,71.00,356.00,-0.170,19.00,171.00\n",
      "Event    7422127\n",
      "7422127  ,HRVD     ,2004-10-26,02:11:33.40, 30.8800,  80.9700, 12.0,TRUE    ,HRVD     ,17,3.310, 5.6,17,-1.460,-1.310, 2.770,-0.370,-2.470,-0.360, 17.00,76.00, -17.00,112.00,73.00,-165.00,17, 3.940, 2.00, 65.00,-2.670,22.00,334.00,-1.270,68.00,159.00\n",
      "7422127  ,NEIC     ,2004-10-26,02:11:33.44, 31.0240,  81.1540, 10.1,        ,NEIC     ,17,1.800, 5.4,17,-1.770, 0.420, 1.350,-0.260,-0.740,-0.330,140.00,44.00,-107.00,343.00,49.00, -74.00,17, 1.770, 3.00, 62.00,-1.860,78.00,319.00, 0.090,12.00,152.00\n",
      "\n"
     ]
    }
   ],
   "source": [
    "f = open(\"outputs/Example_FM_Catalogue.csv\", \"r\"); print f.read(); f.close()"
   ]
  },
  {
   "cell_type": "markdown",
   "metadata": {
    "collapsed": true
   },
   "source": [
    "### Solving download issues\n",
    "Note that sometimes the ISC server is heavily loaded and the http request might fail.\n",
    "In such a case it could be conveninent to use an alternate (mirror) server:"
   ]
  },
  {
   "cell_type": "code",
   "execution_count": 23,
   "metadata": {
    "collapsed": true
   },
   "outputs": [],
   "source": [
    "Cat1.UseMirror()"
   ]
  },
  {
   "cell_type": "markdown",
   "metadata": {
    "collapsed": true
   },
   "source": [
    "Moreover, long time windows might produce a too large number of events, which cannot be downloaded in one block. The code gives the possibility to download the catalogue in separated blocks of a prescr\n",
    "ibed duration (using option SplitYears). The blocks are then automatically merged into a unique output:\n"
   ]
  },
  {
   "cell_type": "code",
   "execution_count": 24,
   "metadata": {
    "collapsed": false
   },
   "outputs": [
    {
     "name": "stdout",
     "output_type": "stream",
     "text": [
      "Downloading block: 2000 - 2000\n",
      "Downloading block: 2001 - 2001\n",
      "Downloading block: 2002 - 2002\n",
      "Downloading block: 2003 - 2003\n",
      "Downloading block: 2004 - 2004\n"
     ]
    }
   ],
   "source": [
    "Cat1.SetField(\"OutputFormat\",\"ISF\")\n",
    "Cat1.GetCatalogue(SplitYears=1)"
   ]
  },
  {
   "cell_type": "markdown",
   "metadata": {},
   "source": [
    "Optionally, one can overwrite a previous download:"
   ]
  },
  {
   "cell_type": "code",
   "execution_count": 25,
   "metadata": {
    "collapsed": true
   },
   "outputs": [],
   "source": [
    "Cat1.WriteOutput('outputs/Example_ISF_Catalogue_SPLIT.isf', OverWrite=True)"
   ]
  },
  {
   "cell_type": "code",
   "execution_count": null,
   "metadata": {
    "collapsed": true
   },
   "outputs": [],
   "source": []
  }
 ],
 "metadata": {
  "kernelspec": {
   "display_name": "Python 2",
   "language": "python",
   "name": "python2"
  },
  "language_info": {
   "codemirror_mode": {
    "name": "ipython",
    "version": 2
   },
   "file_extension": ".py",
   "mimetype": "text/x-python",
   "name": "python",
   "nbconvert_exporter": "python",
   "pygments_lexer": "ipython2",
   "version": "2.7.12"
  }
 },
 "nbformat": 4,
 "nbformat_minor": 0
}
