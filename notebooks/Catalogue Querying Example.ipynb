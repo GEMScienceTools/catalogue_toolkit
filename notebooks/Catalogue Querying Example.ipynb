{
 "cells": [
  {
   "cell_type": "markdown",
   "metadata": {},
   "source": [
    "# Catalogue Query Tools"
   ]
  },
  {
   "cell_type": "markdown",
   "metadata": {},
   "source": [
    "This notebook provides examples on how to use the Catalogue Toolkit to build and explore a catalogue database:"
   ]
  },
  {
   "cell_type": "code",
   "execution_count": null,
   "metadata": {
    "collapsed": false
   },
   "outputs": [],
   "source": [
    "%matplotlib inline\n",
    "import os, sys\n",
    "sys.path.append('/Library/Frameworks/Python.framework/Versions/2.7/lib/python2.7/site-packages')\n",
    "import numpy as np\n",
    "import matplotlib.pyplot as plt\n",
    "from eqcat.parsers.isf_catalogue_reader import ISFReader\n",
    "import eqcat.catalogue_query_tools as cqt"
   ]
  },
  {
   "cell_type": "markdown",
   "metadata": {},
   "source": [
    "## Constructing the Database"
   ]
  },
  {
   "cell_type": "code",
   "execution_count": null,
   "metadata": {
    "collapsed": false
   },
   "outputs": [],
   "source": [
    "# Read in the catalogue\n",
    "parser = ISFReader(\"inputs/isc_test_catalogue_isf.txt\")\n",
    "catalogue1 = parser.read_file(\"ISC_DB1\", \"ISC Global M >= 5\")\n",
    "print \"Catalogue contains: %d events\" % catalogue1.get_number_events()"
   ]
  },
  {
   "cell_type": "code",
   "execution_count": null,
   "metadata": {
    "collapsed": false,
    "scrolled": true
   },
   "outputs": [],
   "source": [
    "# Build the HDF5 Database\n",
    "database_file = \"outputs/catalogue_db1.hdf5\"\n",
    "if os.path.exists(database_file):\n",
    "    os.remove(database_file)\n",
    "_ = catalogue1.build_dataframe(hdf5_file=database_file)"
   ]
  },
  {
   "cell_type": "markdown",
   "metadata": {},
   "source": [
    "## Using the Database"
   ]
  },
  {
   "cell_type": "code",
   "execution_count": null,
   "metadata": {
    "collapsed": true
   },
   "outputs": [],
   "source": [
    "db1 = cqt.CatalogueDB(database_file)"
   ]
  },
  {
   "cell_type": "markdown",
   "metadata": {},
   "source": [
    "### Apply Limiting Selections"
   ]
  },
  {
   "cell_type": "markdown",
   "metadata": {},
   "source": [
    "#### By Bounding Box"
   ]
  },
  {
   "cell_type": "code",
   "execution_count": null,
   "metadata": {
    "collapsed": true
   },
   "outputs": [],
   "source": [
    "lower_lon = 15.\n",
    "upper_lon = 30.\n",
    "lower_lat = 30.\n",
    "upper_lat = 45.\n",
    "bbox = [lower_lon, upper_lon, lower_lat, upper_lat]\n",
    "selector = cqt.CatalogueSelector(db1)\n",
    "aegean_cat = selector.select_within_bounding_box(bbox)"
   ]
  },
  {
   "cell_type": "code",
   "execution_count": null,
   "metadata": {
    "collapsed": false
   },
   "outputs": [],
   "source": [
    "number_origins, number_magnitudes = aegean_cat._get_number_origins_magnitudes()\n",
    "print \"Number of Origins = %d, Number of Magnitudes = %d\" % (number_origins,\n",
    "                                                             number_magnitudes)"
   ]
  },
  {
   "cell_type": "markdown",
   "metadata": {},
   "source": [
    "#### By Polygon"
   ]
  },
  {
   "cell_type": "code",
   "execution_count": null,
   "metadata": {
    "collapsed": false
   },
   "outputs": [],
   "source": [
    "polygon = np.array([[15.0, 45.0],\n",
    "                    [30.0, 45.0],\n",
    "                    [30.0, 30.0],\n",
    "                    [15.0, 30.0],\n",
    "                    [15.0, 45.0]])\n",
    "selector2 = cqt.CatalogueSelector(db1)\n",
    "aegean_cat_alt = selector2.select_within_polygon(polygon[:, 0], polygon[:, 1])\n",
    "number_origins, number_magnitudes = aegean_cat_alt._get_number_origins_magnitudes()\n",
    "print \"Number of Origins = %d, Number of Magnitudes = %d\" % (number_origins,\n",
    "                                                             number_magnitudes)"
   ]
  },
  {
   "cell_type": "markdown",
   "metadata": {},
   "source": [
    "#### By Magnitude"
   ]
  },
  {
   "cell_type": "code",
   "execution_count": null,
   "metadata": {
    "collapsed": false
   },
   "outputs": [],
   "source": [
    "# Above magnitude 6.0\n",
    "selector3 = cqt.CatalogueSelector(aegean_cat)\n",
    "aegean_cat_m6 = selector3.select_within_magnitude_range(lower_mag=6.0, upper_mag=9.0)\n",
    "number_origins, number_magnitudes = aegean_cat_m6._get_number_origins_magnitudes()\n",
    "print \"Number of Origins = %d, Number of Magnitudes = %d\" % (number_origins,\n",
    "                                                             number_magnitudes)"
   ]
  },
  {
   "cell_type": "markdown",
   "metadata": {},
   "source": [
    "#### By Depth"
   ]
  },
  {
   "cell_type": "code",
   "execution_count": null,
   "metadata": {
    "collapsed": false
   },
   "outputs": [],
   "source": [
    "selector4 = cqt.CatalogueSelector(aegean_cat_alt)\n",
    "aegean_cat_deep = selector4.select_within_depth_range(upper_depth=50.0, lower_depth=200.0)\n",
    "number_origins, number_magnitudes = aegean_cat_deep._get_number_origins_magnitudes()\n",
    "print \"Number of Origins = %d, Number of Magnitudes = %d\" % (number_origins,\n",
    "                                                             number_magnitudes)"
   ]
  },
  {
   "cell_type": "markdown",
   "metadata": {},
   "source": [
    "## Exploring the Catalogue Database"
   ]
  },
  {
   "cell_type": "markdown",
   "metadata": {},
   "source": [
    "### See Summary of Agencies and Magnitudes in the Catalogue"
   ]
  },
  {
   "cell_type": "code",
   "execution_count": null,
   "metadata": {
    "collapsed": false,
    "scrolled": true
   },
   "outputs": [],
   "source": [
    "agency_count = cqt.get_agency_magtype_statistics(db1)"
   ]
  },
  {
   "cell_type": "markdown",
   "metadata": {},
   "source": [
    "### Search for a Specific Agency-Magnitude Combination"
   ]
  },
  {
   "cell_type": "markdown",
   "metadata": {},
   "source": [
    "Search for body-wave magnitude common to 'BJI' and 'ISC'"
   ]
  },
  {
   "cell_type": "code",
   "execution_count": null,
   "metadata": {
    "collapsed": false
   },
   "outputs": [],
   "source": [
    "query_bji_isc_mb, bji_isc_mb_cat = cqt.get_agency_magnitude_pairs(db1, (\"BJI\", \"mb\"), (\"ISC\", \"mb\"), no_case=True)"
   ]
  },
  {
   "cell_type": "code",
   "execution_count": null,
   "metadata": {
    "collapsed": false
   },
   "outputs": [],
   "source": [
    "_ = cqt.plot_agency_magnitude_density(query_bji_isc_mb)"
   ]
  },
  {
   "cell_type": "markdown",
   "metadata": {},
   "source": [
    "### Join Query Results"
   ]
  },
  {
   "cell_type": "markdown",
   "metadata": {},
   "source": [
    "Join together the results of two queries. For example the Global CMT magnitudes are reported under either\n",
    "'GCMT' or 'HRVD'. So search for both terms"
   ]
  },
  {
   "cell_type": "code",
   "execution_count": null,
   "metadata": {
    "collapsed": false
   },
   "outputs": [],
   "source": [
    "query1, cat1 = cqt.get_agency_magnitude_pairs(db1, (\"BJI\", \"Ms\"), (\"GCMT\", \"Mw\"), no_case=True)\n",
    "query2, cat2 = cqt.get_agency_magnitude_pairs(db1, (\"BJI\", \"Ms\"), (\"HRVD\", \"Mw\"), no_case=True)\n",
    "query_bji_gcmt_ms = cqt.join_query_results(query1, query2)"
   ]
  },
  {
   "cell_type": "code",
   "execution_count": null,
   "metadata": {
    "collapsed": false
   },
   "outputs": [],
   "source": [
    "_ = cqt.plot_agency_magnitude_density(query_bji_gcmt_ms)"
   ]
  },
  {
   "cell_type": "markdown",
   "metadata": {},
   "source": [
    "## Regression Tools"
   ]
  },
  {
   "cell_type": "markdown",
   "metadata": {},
   "source": [
    "In this example we compare the $M_S$ scale as recorded by the BJI network with the $M_W$ scale reported by\n",
    "HRVD/GCMT (from the previous query)"
   ]
  },
  {
   "cell_type": "markdown",
   "metadata": {},
   "source": [
    "#### Set up the regression"
   ]
  },
  {
   "cell_type": "code",
   "execution_count": null,
   "metadata": {
    "collapsed": false
   },
   "outputs": [],
   "source": [
    "regressor = cqt.CatalogueRegressor(query_bji_gcmt_ms)\n",
    "regressor.plot_density(overlay=False)"
   ]
  },
  {
   "cell_type": "markdown",
   "metadata": {},
   "source": [
    "#### Apply a Linear Model "
   ]
  },
  {
   "cell_type": "code",
   "execution_count": null,
   "metadata": {
    "collapsed": false
   },
   "outputs": [],
   "source": [
    "linear_model = regressor.run_regression(\"polynomial\", # Model Type\n",
    "                                        [0., 1.]) # Initial guess of parameters\n",
    "regressor.plot_model_density(False, 0)\n",
    "# View Results\n",
    "print \"Mw = %.3f + %.3f MS +/- %.3f\" % (regressor.results.beta[0],\n",
    "                                        regressor.results.beta[1],\n",
    "                                        regressor.standard_deviation)"
   ]
  },
  {
   "cell_type": "markdown",
   "metadata": {},
   "source": [
    "### Apply a Piecewise Linear Model"
   ]
  },
  {
   "cell_type": "code",
   "execution_count": null,
   "metadata": {
    "collapsed": false
   },
   "outputs": [],
   "source": [
    "initial_guess = [1.0, 1.0, 0.0]  # [slope 1, slope 2, intercept]\n",
    "\n",
    "linear_model = regressor.run_regression(\"2segmentM6.1\", # Model Type\n",
    "                                        initial_guess) # Initial guess of parameters\n",
    "regressor.plot_model_density(False, 0)\n",
    "print \"Standard Deviation - Segment 1: %.3f, Segment 2: %.3f\" % (regressor.standard_deviation[0],\n",
    "                                                                 regressor.standard_deviation[1])"
   ]
  }
 ],
 "metadata": {
  "kernelspec": {
   "display_name": "Python 2",
   "language": "python",
   "name": "python2"
  },
  "language_info": {
   "codemirror_mode": {
    "name": "ipython",
    "version": 2
   },
   "file_extension": ".py",
   "mimetype": "text/x-python",
   "name": "python",
   "nbconvert_exporter": "python",
   "pygments_lexer": "ipython2",
   "version": "2.7.2"
  }
 },
 "nbformat": 4,
 "nbformat_minor": 0
}
